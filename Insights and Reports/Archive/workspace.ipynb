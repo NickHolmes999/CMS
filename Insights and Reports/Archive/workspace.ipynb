{
 "cells": [
  {
   "cell_type": "code",
   "execution_count": 1,
   "metadata": {},
   "outputs": [],
   "source": [
    "import qualtricsapi as qa\n",
    "token= qa.get_secrets()\n",
    "sld_a = qa.SetSurveyId.survey_choices['Awareness']"
   ]
  },
  {
   "cell_type": "code",
   "execution_count": 2,
   "metadata": {},
   "outputs": [
    {
     "name": "stdout",
     "output_type": "stream",
     "text": [
      "{\"result\":{\"id\":\"ES_99bb38tk6jorakblchluka92v8\"},\"meta\":{\"httpStatus\":\"200 - OK\",\"requestId\":\"29ab8040-39dc-4a74-b2b4-1f3dd6fcd357\"}}\n",
      "Download is 100.0 complete\n"
     ]
    }
   ],
   "source": [
    "df=qa.find_repeat_learners(sld_a,token)"
   ]
  },
  {
   "cell_type": "code",
   "execution_count": 3,
   "metadata": {},
   "outputs": [
    {
     "name": "stdout",
     "output_type": "stream",
     "text": [
      "                  Repeat Learner Embedded\n",
      "ResponseId                               \n",
      "R_2xYqoOdZoR6mBpP                    TRUE\n",
      "R_3hhIBawxOwRTUa5                    TRUE\n",
      "R_1fjhydaBLpnOi18                    TRUE\n",
      "R_1OjC2AycJhUWVS0                    TRUE\n",
      "R_25Znmy71sx0wOvC                    TRUE\n",
      "R_1irIWqW6ldzv4Li                    TRUE\n",
      "R_2TH1xzGo95D5CHM                    TRUE\n",
      "R_2usnUxfrugqESRS                    TRUE\n",
      "R_1gUVUrLe5gHKO3V                    TRUE\n",
      "R_1mxbdRV3VOXMRkx                    TRUE\n",
      "R_2t5xdjpToci5l2N                    TRUE\n",
      "R_emL0J5twfrDfYtP                    TRUE\n",
      "R_2uKEnLbgBFGKAjc                    TRUE\n",
      "R_1g0B12IiXmUbheW                    TRUE\n",
      "R_yX8OPXGMAaweRup                    TRUE\n",
      "R_1LzK2HPtGchQBBs                    TRUE\n",
      "R_8CF0BD2og4BNS1z                    TRUE\n",
      "R_2Ua4CxXWZLqsaS9                    TRUE\n",
      "R_3iJdMjNBYMWCJSo                    TRUE\n"
     ]
    }
   ],
   "source": [
    "print(df)"
   ]
  }
 ],
 "metadata": {
  "interpreter": {
   "hash": "40d3a090f54c6569ab1632332b64b2c03c39dcf918b08424e98f38b5ae0af88f"
  },
  "kernelspec": {
   "display_name": "Python 3.8.8 ('base')",
   "language": "python",
   "name": "python3"
  },
  "language_info": {
   "codemirror_mode": {
    "name": "ipython",
    "version": 3
   },
   "file_extension": ".py",
   "mimetype": "text/x-python",
   "name": "python",
   "nbconvert_exporter": "python",
   "pygments_lexer": "ipython3",
   "version": "3.8.8"
  },
  "orig_nbformat": 4
 },
 "nbformat": 4,
 "nbformat_minor": 2
}
