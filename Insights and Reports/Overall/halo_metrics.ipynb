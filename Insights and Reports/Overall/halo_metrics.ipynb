{
 "cells": [
  {
   "cell_type": "code",
   "execution_count": 4,
   "metadata": {},
   "outputs": [],
   "source": [
    "# Loading OIT and HALO Completion lists into Dataframes\n",
    "\n",
    "import pandas as pd\n",
    "import re\n",
    "\n",
    "# Sample input string with names and emails\n",
    "csv_file_path = '/Users/stephenloprieno/Downloads/oitalldistro.csv'\n",
    "passedhalodf = pd.read_csv(\"~/Downloads/Halo.csv\")\n",
    "\n",
    "with open(csv_file_path, 'r') as file:\n",
    "    csv_string = file.read()\n",
    "\n",
    "\n",
    "# Define a regular expression pattern to extract names and emails\n",
    "pattern = r\"([^<\\\"]+)\\s+\\(([^)]+)\\)\\s+<([^>]+)>;\"\n",
    "\n",
    "# Use regular expression to find all matches in the CSV string\n",
    "matches = re.findall(pattern, csv_string)\n",
    "\n",
    "# Create a list of dictionaries with extracted data\n",
    "data = [{\"Name\": match[0].strip(), \"Organization/Department\": match[1], \"Email\": match[2]} for match in matches]\n",
    "\n",
    "# Create a pandas DataFrame from the list of dictionaries\n",
    "oitalldf = pd.DataFrame(data)\n",
    "oitalldf['Email'] = oitalldf['Email'].str.strip().str.lower()\n",
    "passedhalodf['Passed_Halo'] = passedhalodf['Passed_Halo'].str.strip().str.lower()\n",
    "\n",
    "passedhalodf = passedhalodf.rename(columns={'Passed_Halo': 'Email'})\n",
    "\n",
    "\n",
    "\n",
    "\n",
    "\n"
   ]
  },
  {
   "cell_type": "code",
   "execution_count": 6,
   "metadata": {},
   "outputs": [],
   "source": [
    "#Run to find learners within OIT who still need HALO\n",
    "\n",
    "oit_no_halo = pd.merge(oitalldf,passedhalodf, on='Email', how='left', indicator = True)\n",
    "oit_no_halo = oit_no_halo[oit_no_halo['_merge'] == 'left_only']\n",
    "oit_no_halo = oit_no_halo.drop(columns=['_merge'])\n",
    "oit_no_halo.to_csv(\"OIT-Need-HALO.csv\")\n",
    "\n"
   ]
  },
  {
   "cell_type": "code",
   "execution_count": null,
   "metadata": {},
   "outputs": [],
   "source": [
    "# Run to find everyone in OIT who completed HALO\n",
    "\n",
    "oit_passed_halo = pd.merge(oitalldf,passedhalodf, on='Email', how='inner')\n",
    "oit_passed_halo\n"
   ]
  },
  {
   "cell_type": "code",
   "execution_count": null,
   "metadata": {},
   "outputs": [],
   "source": [
    "#Run to find everyone who completed HALO thats NOT in OIT\n",
    "\n",
    "nonoit_passed_halo = pd.merge(oitalldf,passedhalodf, on='Email', how='right', indicator = True)\n",
    "nonoit_passed_halo = nonoit_passed_halo[nonoit_passed_halo['_merge'] == 'right_only']\n",
    "nonoit_passed_halo = nonoit_passed_halo.drop(columns=['_merge','Name','Organization/Department']).reset_index(drop = True)\n",
    "nonoit_passed_halo"
   ]
  }
 ],
 "metadata": {
  "kernelspec": {
   "display_name": "CMS_CEA",
   "language": "python",
   "name": "python3"
  },
  "language_info": {
   "codemirror_mode": {
    "name": "ipython",
    "version": 3
   },
   "file_extension": ".py",
   "mimetype": "text/x-python",
   "name": "python",
   "nbconvert_exporter": "python",
   "pygments_lexer": "ipython3",
   "version": "3.11.4"
  },
  "orig_nbformat": 4
 },
 "nbformat": 4,
 "nbformat_minor": 2
}
