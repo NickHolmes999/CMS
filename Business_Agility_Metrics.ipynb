{
 "cells": [
  {
   "cell_type": "code",
   "execution_count": 2,
   "metadata": {},
   "outputs": [
    {
     "name": "stdout",
     "output_type": "stream",
     "text": [
      "{\"result\":{\"id\":\"ES_hek1kvpi08695ebju63vmt4lrr\"},\"meta\":{\"httpStatus\":\"200 - OK\",\"requestId\":\"1cac4d22-9866-4517-8428-ff0f5498f907\"}}\n",
      "Download is 100.0 complete\n"
     ]
    }
   ],
   "source": [
    "import pandas as pd\n",
    "import qualtricsapi as qa\n",
    "from pandasql import sqldf\n",
    "import seaborn as sns\n",
    "\n",
    "    \n",
    "token=qa.get_secrets()\n",
    "\n",
    "df_BA = qa.getResults(qa.SetSurveyId.survey_choices['Business_Agility'],token)\n",
    "df_BA.rename(columns={'Verified Complete': 'Verified_Complete','CMS Center': 'CMS_Center', 'Group - Which group are you joining us from?': 'Group'}, inplace=True)"
   ]
  },
  {
   "cell_type": "code",
   "execution_count": 14,
   "metadata": {},
   "outputs": [
    {
     "name": "stdout",
     "output_type": "stream",
     "text": [
      "                                Email  \\\n",
      "0         And your CMS email address?   \n",
      "1           {'ImportId': 'QID3-TEXT'}   \n",
      "2          tiffany.tucker@cms.hhs.gov   \n",
      "3           shannon.ellis@cms.hhs.gov   \n",
      "4            michael.crow@cms.hhs.gov   \n",
      "9          leilani.fields@cms.hhs.gov   \n",
      "10        david.dougherty@cms.hhs.gov   \n",
      "11     samantha.nebolsine@cms.hhs.gov   \n",
      "12           george.clark@cms.hhs.gov   \n",
      "32  maria.corderobojorque@cms.hhs.gov   \n",
      "35           scott.shippy@cms.hhs.gov   \n",
      "36             ashley.han@cms.hhs.gov   \n",
      "37             mark.elky2@cms.hhs.gov   \n",
      "38                                NaN   \n",
      "39     christine.oberdorf@cms.hhs.gov   \n",
      "43            leah.durbak@cms.hhs.gov   \n",
      "44       gabriel.saclolo1@cms.hhs.gov   \n",
      "46          patricia.hill@cms.hhs.gov   \n",
      "47         todd.northwood@cms.hhs.gov   \n",
      "48         carly.richmond@cms.hhs.gov   \n",
      "49        anthony.sutphin@cms.hhs.gov   \n",
      "57       michele.valentin@cms.hhs.gov   \n",
      "58          lauren.wiley1@cms.hhs.gov   \n",
      "60              reba.cole@cms.hhs.gov   \n",
      "61       gloria.griffiths@cms.hhs.gov   \n",
      "63            lisa.dubois@cms.hhs.gov   \n",
      "64           william.long@cms.hhs.gov   \n",
      "65            amy.bedsaul@cms.hhs.gov   \n",
      "67           kathleen.ott@cms.hhs.gov   \n",
      "69        jeannine.barget@cms.hhs.gov   \n",
      "70         raven.robinson@cms.hhs.gov   \n",
      "71            holly.baier@cms.hhs.gov   \n",
      "73           olga.vaysman@cms.hhs.gov   \n",
      "77       lillian.thompson@cms.hhs.gov   \n",
      "\n",
      "                                        Name  \n",
      "0   Great! What is your first and last name?  \n",
      "1                  {'ImportId': 'QID2-TEXT'}  \n",
      "2                             Tiffany Tucker  \n",
      "3                              Shannon Ellis  \n",
      "4                               Michael Crow  \n",
      "9                             leilani fields  \n",
      "10                           David Dougherty  \n",
      "11                        Samantha Nebolsine  \n",
      "12                              George Clark  \n",
      "32                    Maria Cordero Bojorque  \n",
      "35                              Scott Shippy  \n",
      "36                                Ashley Han  \n",
      "37                                 Mark Elky  \n",
      "38                                       NaN  \n",
      "39                        Christine Oberdorf  \n",
      "43                               Leah Durbak  \n",
      "44                              Gabe Saclolo  \n",
      "46                             Patricia Hill  \n",
      "47                            Todd Northwood  \n",
      "48                            Carly Richmond  \n",
      "49                           Anthony Sutphin  \n",
      "57                          Michele Valentin  \n",
      "58                              Lauren Wiley  \n",
      "60                                 Reba Cole  \n",
      "61                          Gloria Griffiths  \n",
      "63                               Lisa Dubois  \n",
      "64                              William Long  \n",
      "65                               Amy Bedsaul  \n",
      "67                              Kathleen Ott  \n",
      "69                           Jeannine Barget  \n",
      "70                            Raven Robinson  \n",
      "71                               Holly Baier  \n",
      "73                              Olga Vaysman  \n",
      "77                            Lilly Thompson  \n"
     ]
    }
   ],
   "source": [
    "\n",
    "\n",
    "#df_filtered = ba_list[ba_list['Verified_Complete'] == 'Yes']\n",
    "\n",
    "#df_filtered= ba_list['Email']\n",
    "\n",
    "#df_result = df_filtered.drop_duplicates(subset = 'Email')\n",
    "\n",
    "#df_result\n",
    "\n",
    "\n",
    "\n",
    "\n",
    "ba_list = df_BA\n",
    "\n",
    "\n",
    "# Step 2: Drop duplicates based on 'Email' column\n",
    "df_result = ba_list.drop_duplicates(subset='Email')\n",
    "\n",
    "# Step 3: Select only the 'Email' and 'Name' columns (if needed)\n",
    "df_result = df_result[['Email', 'Name']]\n",
    "\n",
    "df_result.to_csv('ba_emails.csv')\n",
    "\n",
    "print(df_result)"
   ]
  }
 ],
 "metadata": {
  "kernelspec": {
   "display_name": "CMS_CEA",
   "language": "python",
   "name": "python3"
  },
  "language_info": {
   "codemirror_mode": {
    "name": "ipython",
    "version": 3
   },
   "file_extension": ".py",
   "mimetype": "text/x-python",
   "name": "python",
   "nbconvert_exporter": "python",
   "pygments_lexer": "ipython3",
   "version": "3.11.4"
  },
  "orig_nbformat": 4
 },
 "nbformat": 4,
 "nbformat_minor": 2
}
