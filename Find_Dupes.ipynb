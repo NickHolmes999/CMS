{
 "cells": [
  {
   "cell_type": "code",
   "execution_count": 18,
   "metadata": {},
   "outputs": [
    {
     "name": "stdout",
     "output_type": "stream",
     "text": [
      "{\"result\":{\"id\":\"ES_n5hsi80d55t5r57g69ekkghi6a\"},\"meta\":{\"httpStatus\":\"200 - OK\",\"requestId\":\"0fd1dddc-1c32-47d9-9722-1da437d63990\"}}\n",
      "Download is 100.0 complete\n",
      "{\"result\":{\"id\":\"ES_d9mbil3e2kisqneh5q91cnmhod\"},\"meta\":{\"httpStatus\":\"200 - OK\",\"requestId\":\"1d50c8b3-e9e2-4d2e-9888-2f99bffeb970\"}}\n",
      "Download is 100.0 complete\n",
      "{\"result\":{\"id\":\"ES_ps31rur0r35188uv01633bfivd\"},\"meta\":{\"httpStatus\":\"200 - OK\",\"requestId\":\"3f8abd62-aba0-4caf-8785-3055537e4e56\"}}\n",
      "Download is 100.0 complete\n",
      "{\"result\":{\"id\":\"ES_v2qh7jo3uvkrae22mn2lknb0rs\"},\"meta\":{\"httpStatus\":\"200 - OK\",\"requestId\":\"adbf11d1-0bcc-4c8a-b040-37dc26691ef7\"}}\n",
      "Download is 100.0 complete\n"
     ]
    }
   ],
   "source": [
    "import pandas as pd\n",
    "import qualtricsapi as qa\n",
    "from pandasql import sqldf\n",
    "import seaborn as sns\n",
    "\n",
    "    \n",
    "token=qa.get_secrets()\n",
    "\n",
    "\n",
    "df_aw=qa.getResults(qa.SetSurveyId.survey_choices['Awareness'],token)\n",
    "df_aw.rename(columns={'Verified Complete': 'Verified_Complete', 'CMS Center': 'CMS_Center'}, inplace=True)\n",
    "\n",
    "df_BA = qa.getResults(qa.SetSurveyId.survey_choices['Business_Agility'],token)\n",
    "df_BA.rename(columns={'Verified Complete': 'Verified_Complete','CMS Center': 'CMS_Center', 'Group - Which group are you joining us from?': 'Group'}, inplace=True)\n",
    "\n",
    "df_HCD = qa.getResults(qa.SetSurveyId.survey_choices['HCD'],token)\n",
    "df_HCD.rename(columns={'Verified Complete': 'Verified_Complete','CMS Center': 'CMS_Center', 'Group - Which group are you joining us from?': 'Group'}, inplace=True)\n",
    "\n",
    "\n",
    "df_comp = qa.getResults(qa.SetSurveyId.survey_choices['Competency'],token)\n",
    "df_comp.rename(columns={'Verified Complete': 'Verified_Complete','CMS Center': 'CMS_Center', 'Group - Which group are you joining us from?': 'Group'}, inplace=True)\n",
    "\n",
    "\n",
    "data_all = pd.concat([df_aw, df_comp, df_HCD, df_BA], ignore_index=True, sort=False)\n"
   ]
  },
  {
   "cell_type": "code",
   "execution_count": null,
   "metadata": {},
   "outputs": [],
   "source": [
    "df_all = pd.DataFrame(data_all)\n",
    "\n",
    "completed_df_all = df_all[df_all['Verified_Complete'] == 'Yes']\n",
    "\n",
    "unique_emails = completed_df_all.drop_duplicates(subset = ['Pillar','Email'])\n",
    "\n",
    "groupedby_df = unique_emails.groupby(['Track','Pillar']).apply(lambda x: x.reset_index(drop=True))\n",
    "\n",
    "final_df = groupedby_df.reset_index(drop = True)\n",
    "\n",
    "final_df"
   ]
  },
  {
   "cell_type": "code",
   "execution_count": null,
   "metadata": {},
   "outputs": [],
   "source": [
    "df1 = pd.DataFrame(df_aw)\n",
    "\n",
    "df1 = df1[df1['Verified_Complete'] == 'Yes']\n",
    "\n",
    "\n",
    "df2 = pd.DataFrame(df_BA)\n",
    "\n",
    "# Extract emails to exclude\n",
    "emails_to_exclude = df2['Email'].tolist()\n",
    "\n",
    "# Filter df1 to exclude these emails\n",
    "filtered_df1 = df1[~df1['Email'].isin(emails_to_exclude)]\n",
    "\n",
    "filtered_df1 = filtered_df1[['Email', 'Name']]\n",
    "\n",
    "filtered_df1 = filtered_df1.drop_duplicates(subset='Email')\n",
    "\n",
    "filtered_df1.to_csv('ba_spotlight_list.csv')\n",
    "\n",
    "print(filtered_df1)"
   ]
  },
  {
   "cell_type": "code",
   "execution_count": null,
   "metadata": {},
   "outputs": [],
   "source": [
    "def filter_emails(emails):\n",
    "    # Step 1: Filter emails with Verified_Complete as 'Yes'\n",
    "    verified_emails = df_aw[df_aw['Verified_Complete'] == 'Yes']\n",
    "    \n",
    "    # Step 2: Identify emails with Track = 'Cyber-Hygiene: Essentials' and Verified_Complete = 'Yes'\n",
    "    cyber_hygiene_emails = df_aw[(df_aw['Track'] == 'Cyber-Hygiene: Essentials') & \n",
    "                                 (df_aw['Verified_Complete'] == 'Yes')]\n",
    "    \n",
    "    # Extract unique emails from the Cyber-Hygiene records\n",
    "    cyber_hygiene_email_list = cyber_hygiene_emails['Email'].unique()\n",
    "    \n",
    "    # Step 3: Exclude these emails from the verified emails list\n",
    "    final_emails = verified_emails[~verified_emails['Email'].isin(cyber_hygiene_email_list)]\n",
    "    \n",
    "    # Convert the final list of emails into a DataFrame\n",
    "    result_df = pd.DataFrame(final_emails['Email'].unique(), columns=['Email'])\n",
    "    \n",
    "    # Return the DataFrame\n",
    "    return result_df\n",
    "\n",
    "\n",
    "emails = pd.DataFrame(df_aw)\n",
    "result_df = filter_emails(df_aw)\n",
    "\n",
    "# Save the result to a CSV file if needed\n",
    "result_df.to_csv('filtered_emails.csv', index=False)\n",
    "\n",
    "print(result_df)\n"
   ]
  },
  {
   "cell_type": "code",
   "execution_count": 19,
   "metadata": {},
   "outputs": [
    {
     "ename": "AttributeError",
     "evalue": "module 'pandas' has no attribute 'Dataframe'",
     "output_type": "error",
     "traceback": [
      "\u001b[0;31m---------------------------------------------------------------------------\u001b[0m",
      "\u001b[0;31mAttributeError\u001b[0m                            Traceback (most recent call last)",
      "Cell \u001b[0;32mIn[19], line 7\u001b[0m\n\u001b[1;32m      1\u001b[0m data \u001b[39m=\u001b[39m (sqldf(\u001b[39m'''\u001b[39m\u001b[39mSELECT CMS_Center, Count(Distinct Email) AS Completions\u001b[39m\n\u001b[1;32m      2\u001b[0m \u001b[39m            From df_aw\u001b[39m\n\u001b[1;32m      3\u001b[0m \u001b[39m            Where Verified_Complete = \u001b[39m\u001b[39m'\u001b[39m\u001b[39mYes\u001b[39m\u001b[39m'\u001b[39m\u001b[39m AND CMS_Center != \u001b[39m\u001b[39m'\u001b[39m\u001b[39mNone\u001b[39m\u001b[39m'\u001b[39m\n\u001b[1;32m      4\u001b[0m \u001b[39m            Group by CMS_Center\u001b[39m\n\u001b[1;32m      5\u001b[0m \u001b[39m                     \u001b[39m\u001b[39m'''\u001b[39m))\n\u001b[0;32m----> 7\u001b[0m data_df \u001b[39m=\u001b[39m pd\u001b[39m.\u001b[39;49mDataframe(data)\n\u001b[1;32m      9\u001b[0m data_hist \u001b[39m=\u001b[39m data_df\u001b[39m.\u001b[39mplot\u001b[39m.\u001b[39mhist()\n\u001b[1;32m     11\u001b[0m data_hist\n",
      "\u001b[0;31mAttributeError\u001b[0m: module 'pandas' has no attribute 'Dataframe'"
     ]
    }
   ],
   "source": [
    "data = (sqldf('''SELECT CMS_Center, Count(Distinct Email) AS Completions\n",
    "            From df_aw\n",
    "            Where Verified_Complete = 'Yes' AND CMS_Center != 'None'\n",
    "            Group by CMS_Center\n",
    "                     '''))\n"
   ]
  },
  {
   "cell_type": "code",
   "execution_count": null,
   "metadata": {},
   "outputs": [],
   "source": [
    "print(sqldf('''SELECT Distinct (Email), Track\n",
    "            From df_aw\n",
    "            Where Verified_Complete = 'Yes'\n",
    "            '''));\n",
    "\n",
    "data_aw = (sqldf('''SELECT Distinct (Email), Track\n",
    "            From df_aw\n",
    "            Where Verified_Complete = 'Yes'\n",
    "            '''));\n",
    "data_aw_df = pd.DataFrame(data_aw)\n",
    "\n",
    "data_aw_df.to_csv('Alum-Aw.csv')"
   ]
  },
  {
   "cell_type": "code",
   "execution_count": null,
   "metadata": {},
   "outputs": [],
   "source": [
    "#Finds learners who completed a track more than once\n",
    "\n",
    "print(sqldf('''SELECT Email, Name, Track, Verified_Complete, Count(Email), Count(Track)\n",
    "            From df_aw\n",
    "            Where Verified_Complete = 'Yes'\n",
    "            Group By Email, Name, Track\n",
    "            Having Count(Email) > 1 AND Count(Track) > 1\n",
    "                     '''));"
   ]
  },
  {
   "cell_type": "code",
   "execution_count": null,
   "metadata": {},
   "outputs": [],
   "source": [
    "print(sqldf('''\n",
    "    SELECT Distinct Email, Name, CMS_Center\n",
    "    FROM df_aw\n",
    "    WHERE Verified_Complete = 'Yes' AND TRIM(CMS_Center) != 'Office of Information Technology - OIT'\n",
    "'''))\n"
   ]
  },
  {
   "cell_type": "code",
   "execution_count": null,
   "metadata": {},
   "outputs": [],
   "source": [
    "print(sqldf('''SELECT Email, Name, Track, Verified_Complete, Level, Dropped, Count(Email), Count(Level)\n",
    "            From df_comp\n",
    "            Where Dropped != 'Yes'\n",
    "            Group By Email, Track, Level\n",
    "            Having Count(Email) > 1 AND Count(Level) > 1\n",
    "                     '''));"
   ]
  },
  {
   "cell_type": "code",
   "execution_count": null,
   "metadata": {},
   "outputs": [],
   "source": [
    "#Find duplicate enrollment\n",
    "\n",
    "print(sqldf('''SELECT Email, Name, Track, Count(Email), Count(Track)\n",
    "            From df_aw\n",
    "            Where Dropped is NULL AND Verified_Complete is NULL\n",
    "            Group By Email, Track\n",
    "            Having Count(Email) > 1 AND Count(Track) > 1\n",
    "                     '''));"
   ]
  },
  {
   "cell_type": "code",
   "execution_count": null,
   "metadata": {},
   "outputs": [],
   "source": [
    "data_aw = sqldf('''SELECT *\n",
    "            From df_aw\n",
    "            Where Verified_Complete == \"Yes\"\n",
    "                     ''')\n",
    "data_aw_df = pd.DataFrame(data_aw)\n",
    "\n",
    "data_aw_df.to_csv('Alum-Aw.csv')\n",
    "\n",
    "data_comp = sqldf('''SELECT *\n",
    "            From df_comp\n",
    "            ''')\n",
    "data_comp_df = pd.DataFrame(data_comp)\n",
    "data_comp_df.to_csv('Alum_Comp.csv')\n",
    "\n"
   ]
  }
 ],
 "metadata": {
  "kernelspec": {
   "display_name": "CMS_CEA",
   "language": "python",
   "name": "python3"
  },
  "language_info": {
   "codemirror_mode": {
    "name": "ipython",
    "version": 3
   },
   "file_extension": ".py",
   "mimetype": "text/x-python",
   "name": "python",
   "nbconvert_exporter": "python",
   "pygments_lexer": "ipython3",
   "version": "3.11.4"
  },
  "orig_nbformat": 4
 },
 "nbformat": 4,
 "nbformat_minor": 2
}
