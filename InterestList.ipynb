{
 "cells": [
  {
   "cell_type": "code",
   "execution_count": 59,
   "metadata": {},
   "outputs": [
    {
     "name": "stdout",
     "output_type": "stream",
     "text": [
      "API Response Status Code: 200\n",
      "API Response Content: {\"result\":{\"id\":\"ES_k7roj3kejtmjq8edbf3n41el6k\"},\"meta\":{\"httpStatus\":\"200 - OK\",\"requestId\":\"a3e87400-e05b-4139-9f40-5daf4b20397a\"}}\n",
      "Progress ID: ES_k7roj3kejtmjq8edbf3n41el6k\n"
     ]
    },
    {
     "name": "stderr",
     "output_type": "stream",
     "text": [
      "DEBUG:urllib3.connectionpool:https://cms.gov1.qualtrics.com:443 \"GET /API/v3/responseexports/ES_k7roj3kejtmjq8edbf3n41el6k HTTP/1.1\" 200 153\n",
      "DEBUG:urllib3.connectionpool:Starting new HTTPS connection (1): cms.gov1.qualtrics.com:443\n"
     ]
    },
    {
     "name": "stdout",
     "output_type": "stream",
     "text": [
      "Download is 0.0 complete\n"
     ]
    },
    {
     "name": "stderr",
     "output_type": "stream",
     "text": [
      "DEBUG:urllib3.connectionpool:https://cms.gov1.qualtrics.com:443 \"GET /API/v3/responseexports/ES_k7roj3kejtmjq8edbf3n41el6k HTTP/1.1\" 200 153\n",
      "DEBUG:urllib3.connectionpool:Starting new HTTPS connection (1): cms.gov1.qualtrics.com:443\n"
     ]
    },
    {
     "name": "stdout",
     "output_type": "stream",
     "text": [
      "Download is 0.0 complete\n"
     ]
    },
    {
     "name": "stderr",
     "output_type": "stream",
     "text": [
      "DEBUG:urllib3.connectionpool:https://cms.gov1.qualtrics.com:443 \"GET /API/v3/responseexports/ES_k7roj3kejtmjq8edbf3n41el6k HTTP/1.1\" 200 153\n",
      "DEBUG:urllib3.connectionpool:Starting new HTTPS connection (1): cms.gov1.qualtrics.com:443\n"
     ]
    },
    {
     "name": "stdout",
     "output_type": "stream",
     "text": [
      "Download is 0.0 complete\n"
     ]
    },
    {
     "name": "stderr",
     "output_type": "stream",
     "text": [
      "DEBUG:urllib3.connectionpool:https://cms.gov1.qualtrics.com:443 \"GET /API/v3/responseexports/ES_k7roj3kejtmjq8edbf3n41el6k HTTP/1.1\" 200 153\n",
      "DEBUG:urllib3.connectionpool:Starting new HTTPS connection (1): cms.gov1.qualtrics.com:443\n"
     ]
    },
    {
     "name": "stdout",
     "output_type": "stream",
     "text": [
      "Download is 0.0 complete\n"
     ]
    },
    {
     "name": "stderr",
     "output_type": "stream",
     "text": [
      "DEBUG:urllib3.connectionpool:https://cms.gov1.qualtrics.com:443 \"GET /API/v3/responseexports/ES_k7roj3kejtmjq8edbf3n41el6k HTTP/1.1\" 200 234\n",
      "DEBUG:urllib3.connectionpool:Starting new HTTPS connection (1): cms.gov1.qualtrics.com:443\n"
     ]
    },
    {
     "name": "stdout",
     "output_type": "stream",
     "text": [
      "Download is 100.0 complete\n"
     ]
    },
    {
     "name": "stderr",
     "output_type": "stream",
     "text": [
      "DEBUG:urllib3.connectionpool:https://cms.gov1.qualtrics.com:443 \"GET /API/v3/responseexports/ES_k7roj3kejtmjq8edbf3n41el6k/file HTTP/1.1\" 200 None\n",
      "DEBUG:urllib3.connectionpool:Starting new HTTPS connection (1): cms.gov1.qualtrics.com:443\n",
      "DEBUG:urllib3.connectionpool:https://cms.gov1.qualtrics.com:443 \"POST /API/v3/responseexports/ HTTP/1.1\" 200 133\n",
      "DEBUG:urllib3.connectionpool:Starting new HTTPS connection (1): cms.gov1.qualtrics.com:443\n"
     ]
    },
    {
     "name": "stdout",
     "output_type": "stream",
     "text": [
      "API Response Status Code: 200\n",
      "API Response Content: {\"result\":{\"id\":\"ES_t44to7f3lp9r3mrevhgh4v9kd4\"},\"meta\":{\"httpStatus\":\"200 - OK\",\"requestId\":\"82961a7f-2caf-4fc3-9647-4032b3ceb4ba\"}}\n",
      "Progress ID: ES_t44to7f3lp9r3mrevhgh4v9kd4\n"
     ]
    },
    {
     "name": "stderr",
     "output_type": "stream",
     "text": [
      "DEBUG:urllib3.connectionpool:https://cms.gov1.qualtrics.com:443 \"GET /API/v3/responseexports/ES_t44to7f3lp9r3mrevhgh4v9kd4 HTTP/1.1\" 200 153\n",
      "DEBUG:urllib3.connectionpool:Starting new HTTPS connection (1): cms.gov1.qualtrics.com:443\n"
     ]
    },
    {
     "name": "stdout",
     "output_type": "stream",
     "text": [
      "Download is 0.0 complete\n"
     ]
    },
    {
     "name": "stderr",
     "output_type": "stream",
     "text": [
      "DEBUG:urllib3.connectionpool:https://cms.gov1.qualtrics.com:443 \"GET /API/v3/responseexports/ES_t44to7f3lp9r3mrevhgh4v9kd4 HTTP/1.1\" 200 153\n",
      "DEBUG:urllib3.connectionpool:Starting new HTTPS connection (1): cms.gov1.qualtrics.com:443\n"
     ]
    },
    {
     "name": "stdout",
     "output_type": "stream",
     "text": [
      "Download is 0.0 complete\n"
     ]
    },
    {
     "name": "stderr",
     "output_type": "stream",
     "text": [
      "DEBUG:urllib3.connectionpool:https://cms.gov1.qualtrics.com:443 \"GET /API/v3/responseexports/ES_t44to7f3lp9r3mrevhgh4v9kd4 HTTP/1.1\" 200 153\n",
      "DEBUG:urllib3.connectionpool:Starting new HTTPS connection (1): cms.gov1.qualtrics.com:443\n"
     ]
    },
    {
     "name": "stdout",
     "output_type": "stream",
     "text": [
      "Download is 0.0 complete\n"
     ]
    },
    {
     "name": "stderr",
     "output_type": "stream",
     "text": [
      "DEBUG:urllib3.connectionpool:https://cms.gov1.qualtrics.com:443 \"GET /API/v3/responseexports/ES_t44to7f3lp9r3mrevhgh4v9kd4 HTTP/1.1\" 200 153\n",
      "DEBUG:urllib3.connectionpool:Starting new HTTPS connection (1): cms.gov1.qualtrics.com:443\n"
     ]
    },
    {
     "name": "stdout",
     "output_type": "stream",
     "text": [
      "Download is 0.0 complete\n"
     ]
    },
    {
     "name": "stderr",
     "output_type": "stream",
     "text": [
      "DEBUG:urllib3.connectionpool:https://cms.gov1.qualtrics.com:443 \"GET /API/v3/responseexports/ES_t44to7f3lp9r3mrevhgh4v9kd4 HTTP/1.1\" 200 234\n",
      "DEBUG:urllib3.connectionpool:Starting new HTTPS connection (1): cms.gov1.qualtrics.com:443\n"
     ]
    },
    {
     "name": "stdout",
     "output_type": "stream",
     "text": [
      "Download is 100.0 complete\n"
     ]
    },
    {
     "name": "stderr",
     "output_type": "stream",
     "text": [
      "DEBUG:urllib3.connectionpool:https://cms.gov1.qualtrics.com:443 \"GET /API/v3/responseexports/ES_t44to7f3lp9r3mrevhgh4v9kd4/file HTTP/1.1\" 200 None\n",
      "DEBUG:urllib3.connectionpool:Starting new HTTPS connection (1): cms.gov1.qualtrics.com:443\n",
      "DEBUG:urllib3.connectionpool:https://cms.gov1.qualtrics.com:443 \"POST /API/v3/responseexports/ HTTP/1.1\" 200 133\n",
      "DEBUG:urllib3.connectionpool:Starting new HTTPS connection (1): cms.gov1.qualtrics.com:443\n"
     ]
    },
    {
     "name": "stdout",
     "output_type": "stream",
     "text": [
      "API Response Status Code: 200\n",
      "API Response Content: {\"result\":{\"id\":\"ES_ro7vd4mtf24ju59h4m3i5u783i\"},\"meta\":{\"httpStatus\":\"200 - OK\",\"requestId\":\"dfc7279b-1c05-4673-8124-065af762d5b8\"}}\n",
      "Progress ID: ES_ro7vd4mtf24ju59h4m3i5u783i\n"
     ]
    },
    {
     "name": "stderr",
     "output_type": "stream",
     "text": [
      "DEBUG:urllib3.connectionpool:https://cms.gov1.qualtrics.com:443 \"GET /API/v3/responseexports/ES_ro7vd4mtf24ju59h4m3i5u783i HTTP/1.1\" 200 153\n",
      "DEBUG:urllib3.connectionpool:Starting new HTTPS connection (1): cms.gov1.qualtrics.com:443\n"
     ]
    },
    {
     "name": "stdout",
     "output_type": "stream",
     "text": [
      "Download is 0.0 complete\n"
     ]
    },
    {
     "name": "stderr",
     "output_type": "stream",
     "text": [
      "DEBUG:urllib3.connectionpool:https://cms.gov1.qualtrics.com:443 \"GET /API/v3/responseexports/ES_ro7vd4mtf24ju59h4m3i5u783i HTTP/1.1\" 200 153\n",
      "DEBUG:urllib3.connectionpool:Starting new HTTPS connection (1): cms.gov1.qualtrics.com:443\n"
     ]
    },
    {
     "name": "stdout",
     "output_type": "stream",
     "text": [
      "Download is 0.0 complete\n"
     ]
    },
    {
     "name": "stderr",
     "output_type": "stream",
     "text": [
      "DEBUG:urllib3.connectionpool:https://cms.gov1.qualtrics.com:443 \"GET /API/v3/responseexports/ES_ro7vd4mtf24ju59h4m3i5u783i HTTP/1.1\" 200 153\n",
      "DEBUG:urllib3.connectionpool:Starting new HTTPS connection (1): cms.gov1.qualtrics.com:443\n"
     ]
    },
    {
     "name": "stdout",
     "output_type": "stream",
     "text": [
      "Download is 0.0 complete\n"
     ]
    },
    {
     "name": "stderr",
     "output_type": "stream",
     "text": [
      "DEBUG:urllib3.connectionpool:https://cms.gov1.qualtrics.com:443 \"GET /API/v3/responseexports/ES_ro7vd4mtf24ju59h4m3i5u783i HTTP/1.1\" 200 153\n",
      "DEBUG:urllib3.connectionpool:Starting new HTTPS connection (1): cms.gov1.qualtrics.com:443\n"
     ]
    },
    {
     "name": "stdout",
     "output_type": "stream",
     "text": [
      "Download is 0.0 complete\n"
     ]
    },
    {
     "name": "stderr",
     "output_type": "stream",
     "text": [
      "DEBUG:urllib3.connectionpool:https://cms.gov1.qualtrics.com:443 \"GET /API/v3/responseexports/ES_ro7vd4mtf24ju59h4m3i5u783i HTTP/1.1\" 200 155\n",
      "DEBUG:urllib3.connectionpool:Starting new HTTPS connection (1): cms.gov1.qualtrics.com:443\n"
     ]
    },
    {
     "name": "stdout",
     "output_type": "stream",
     "text": [
      "Download is 100.0 complete\n"
     ]
    },
    {
     "name": "stderr",
     "output_type": "stream",
     "text": [
      "DEBUG:urllib3.connectionpool:https://cms.gov1.qualtrics.com:443 \"GET /API/v3/responseexports/ES_ro7vd4mtf24ju59h4m3i5u783i/file HTTP/1.1\" 200 None\n",
      "DEBUG:urllib3.connectionpool:Starting new HTTPS connection (1): cms.gov1.qualtrics.com:443\n",
      "DEBUG:urllib3.connectionpool:https://cms.gov1.qualtrics.com:443 \"POST /API/v3/responseexports/ HTTP/1.1\" 200 133\n",
      "DEBUG:urllib3.connectionpool:Starting new HTTPS connection (1): cms.gov1.qualtrics.com:443\n"
     ]
    },
    {
     "name": "stdout",
     "output_type": "stream",
     "text": [
      "API Response Status Code: 200\n",
      "API Response Content: {\"result\":{\"id\":\"ES_usc1jd00deerf5c1a9o63b88g9\"},\"meta\":{\"httpStatus\":\"200 - OK\",\"requestId\":\"1ac134e2-38e4-439f-85e1-f4faced7afa6\"}}\n",
      "Progress ID: ES_usc1jd00deerf5c1a9o63b88g9\n"
     ]
    },
    {
     "name": "stderr",
     "output_type": "stream",
     "text": [
      "DEBUG:urllib3.connectionpool:https://cms.gov1.qualtrics.com:443 \"GET /API/v3/responseexports/ES_usc1jd00deerf5c1a9o63b88g9 HTTP/1.1\" 200 153\n",
      "DEBUG:urllib3.connectionpool:Starting new HTTPS connection (1): cms.gov1.qualtrics.com:443\n"
     ]
    },
    {
     "name": "stdout",
     "output_type": "stream",
     "text": [
      "Download is 0.0 complete\n"
     ]
    },
    {
     "name": "stderr",
     "output_type": "stream",
     "text": [
      "DEBUG:urllib3.connectionpool:https://cms.gov1.qualtrics.com:443 \"GET /API/v3/responseexports/ES_usc1jd00deerf5c1a9o63b88g9 HTTP/1.1\" 200 153\n",
      "DEBUG:urllib3.connectionpool:Starting new HTTPS connection (1): cms.gov1.qualtrics.com:443\n"
     ]
    },
    {
     "name": "stdout",
     "output_type": "stream",
     "text": [
      "Download is 0.0 complete\n"
     ]
    },
    {
     "name": "stderr",
     "output_type": "stream",
     "text": [
      "DEBUG:urllib3.connectionpool:https://cms.gov1.qualtrics.com:443 \"GET /API/v3/responseexports/ES_usc1jd00deerf5c1a9o63b88g9 HTTP/1.1\" 200 153\n",
      "DEBUG:urllib3.connectionpool:Starting new HTTPS connection (1): cms.gov1.qualtrics.com:443\n"
     ]
    },
    {
     "name": "stdout",
     "output_type": "stream",
     "text": [
      "Download is 0.0 complete\n"
     ]
    },
    {
     "name": "stderr",
     "output_type": "stream",
     "text": [
      "DEBUG:urllib3.connectionpool:https://cms.gov1.qualtrics.com:443 \"GET /API/v3/responseexports/ES_usc1jd00deerf5c1a9o63b88g9 HTTP/1.1\" 200 153\n",
      "DEBUG:urllib3.connectionpool:Starting new HTTPS connection (1): cms.gov1.qualtrics.com:443\n"
     ]
    },
    {
     "name": "stdout",
     "output_type": "stream",
     "text": [
      "Download is 0.0 complete\n"
     ]
    },
    {
     "name": "stderr",
     "output_type": "stream",
     "text": [
      "DEBUG:urllib3.connectionpool:https://cms.gov1.qualtrics.com:443 \"GET /API/v3/responseexports/ES_usc1jd00deerf5c1a9o63b88g9 HTTP/1.1\" 200 153\n",
      "DEBUG:urllib3.connectionpool:Starting new HTTPS connection (1): cms.gov1.qualtrics.com:443\n"
     ]
    },
    {
     "name": "stdout",
     "output_type": "stream",
     "text": [
      "Download is 0.0 complete\n"
     ]
    },
    {
     "name": "stderr",
     "output_type": "stream",
     "text": [
      "DEBUG:urllib3.connectionpool:https://cms.gov1.qualtrics.com:443 \"GET /API/v3/responseexports/ES_usc1jd00deerf5c1a9o63b88g9 HTTP/1.1\" 200 153\n",
      "DEBUG:urllib3.connectionpool:Starting new HTTPS connection (1): cms.gov1.qualtrics.com:443\n"
     ]
    },
    {
     "name": "stdout",
     "output_type": "stream",
     "text": [
      "Download is 0.0 complete\n"
     ]
    },
    {
     "name": "stderr",
     "output_type": "stream",
     "text": [
      "DEBUG:urllib3.connectionpool:https://cms.gov1.qualtrics.com:443 \"GET /API/v3/responseexports/ES_usc1jd00deerf5c1a9o63b88g9 HTTP/1.1\" 200 234\n",
      "DEBUG:urllib3.connectionpool:Starting new HTTPS connection (1): cms.gov1.qualtrics.com:443\n"
     ]
    },
    {
     "name": "stdout",
     "output_type": "stream",
     "text": [
      "Download is 100.0 complete\n"
     ]
    },
    {
     "name": "stderr",
     "output_type": "stream",
     "text": [
      "DEBUG:urllib3.connectionpool:https://cms.gov1.qualtrics.com:443 \"GET /API/v3/responseexports/ES_usc1jd00deerf5c1a9o63b88g9/file HTTP/1.1\" 200 None\n"
     ]
    }
   ],
   "source": [
    "import pandas as pd\n",
    "import qualtricsapi as qa\n",
    "from pandasql import sqldf\n",
    "import seaborn as sns\n",
    "\n",
    "    \n",
    "token=qa.get_secrets()\n",
    "\n",
    "\n",
    "df_aw=qa.getResults(qa.SetSurveyId.survey_choices['Awareness'],token)\n",
    "df_aw.rename(columns={'Verified Complete': 'Verified_Complete', 'CMS Center': 'CMS_Center', 'Group - Which group are you joining us from?': 'Group', 'Track Selection': 'Track_Selection'}, inplace=True)\n",
    "\n",
    "df_BA = qa.getResults(qa.SetSurveyId.survey_choices['Business_Agility'],token)\n",
    "df_BA.rename(columns={'Verified Complete': 'Verified_Complete','CMS Center': 'CMS_Center', 'Group - Which group are you joining us from?': 'Group', 'Track Selection': 'Track_Selection'}, inplace=True)\n",
    "\n",
    "df_HCD = qa.getResults(qa.SetSurveyId.survey_choices['HCD'],token)\n",
    "df_HCD.rename(columns={'Verified Complete': 'Verified_Complete','CMS Center': 'CMS_Center', 'Group - Which group are you joining us from?': 'Group', 'Track Selection': 'Track_Selection'}, inplace=True)\n",
    "\n",
    "\n",
    "df_comp = qa.getResults(qa.SetSurveyId.survey_choices['Competency'],token)\n",
    "df_comp.rename(columns={'Verified Complete': 'Verified_Complete','CMS Center': 'CMS_Center', 'Group - Which group are you joining us from?': 'Group',  'Track Selection': 'Track_Selection'}, inplace=True)\n",
    "\n",
    "\n",
    "data_all = pd.concat([df_aw, df_comp, df_HCD, df_BA], ignore_index=True, sort=False)"
   ]
  },
  {
   "cell_type": "code",
   "execution_count": 86,
   "metadata": {},
   "outputs": [
    {
     "name": "stdout",
     "output_type": "stream",
     "text": [
      "Empty DataFrame\n",
      "Columns: [Email]\n",
      "Index: []\n"
     ]
    }
   ],
   "source": [
    "r10 = sqldf('''\n",
    "        SELECT Email\n",
    "        FROM df_aw\n",
    "        WHERE Dropped != 'Yes' AND Track = 'Leadership'\n",
    "    ''')\n",
    "\n",
    "print(r10)"
   ]
  },
  {
   "cell_type": "code",
   "execution_count": 103,
   "metadata": {},
   "outputs": [
    {
     "name": "stdout",
     "output_type": "stream",
     "text": [
      "Track value: 'Artificial Intelligence and Machine Learning'\n",
      "Final result DataFrame:\n",
      "\n",
      "0    jennifer.coriell@cms.hhs.gov\n",
      "1        sarah.bluher@cms.hhs.gov\n",
      "2       coles.mercier@cms.hhs.gov\n",
      "3     carolyn.kraemer@cms.hhs.gov\n",
      "4        ashley.marks@cms.hhs.gov\n",
      "5      lyrique.white1@cms.hhs.gov\n",
      "6      lyrique.white1@cms.hhs.gov\n",
      "7      nadine.dintzer@cms.hhs.gov\n",
      "8      sandhya.mathur@cms.hhs.gov\n",
      "Name: Email, dtype: object\n"
     ]
    }
   ],
   "source": [
    "def interestList(track):\n",
    "    # Escape single quotes in track if any\n",
    "    track = track.replace(\"'\", \"''\")  \n",
    "    print(f\"Track value: '{track}'\")\n",
    "\n",
    "    # Filter r1 based on Track_Selection and Interest_List\n",
    "    r1 = df_aw[(df_aw['Track_Selection'] == track) & (df_aw['Interest_List'] == 'Yes')]\n",
    "    #print(\"r1 DataFrame:\\n\", r1)\n",
    "\n",
    "    # Filter r2 based on Track and Dropped\n",
    "    r2 = df_aw[(df_aw['Track'] == track) & (df_aw['Dropped'] != 'Yes')]\n",
    "    #print(\"r2 DataFrame:\\n\", r2)\n",
    "    \n",
    "    # Merge r1 and r2 to get the final result\n",
    "    result_final = r1.merge(r2[['Email']], on='Email', how='left', indicator=True)\n",
    "    result_final = result_final[result_final['_merge'] == 'both'][['Email']]\n",
    "\n",
    "    result_final = result_final['Email'].reset_index(drop = True)\n",
    "    \n",
    "    print(\"Final result DataFrame:\\n\")\n",
    "    return result_final\n",
    "\n",
    "# Track Options: Artificial Intelligence and Machine Learning, Cloud, Cyber-Hygiene: Essentials, Human-Centered Design, Leadership, Product Management\n",
    "\n",
    "print(interestList(track='Artificial Intelligence and Machine Learning'))"
   ]
  },
  {
   "cell_type": "code",
   "execution_count": 65,
   "metadata": {},
   "outputs": [
    {
     "name": "stdout",
     "output_type": "stream",
     "text": [
      "Empty DataFrame\n",
      "Columns: [Email]\n",
      "Index: []\n"
     ]
    }
   ],
   "source": [
    "#AWARENESS INTEREST LIST\n",
    "\n",
    "def interestList(track):\n",
    "    # Ensure to format the track variable properly\n",
    "    track = track.replace(\"'\", \"''\")  # Escape single quotes in track if any\n",
    "\n",
    "    r1 = sqldf(f'''\n",
    "        SELECT Email\n",
    "        FROM df_aw\n",
    "        WHERE Track_Selection = '{track}'\n",
    "        AND Interest_List = 'Yes'\n",
    "    ''')\n",
    "\n",
    "    r2 = sqldf(f'''\n",
    "        SELECT Email, Finished\n",
    "        FROM df_aw\n",
    "        WHERE Dropped != 'Yes' AND Track = '{track}'\n",
    "    ''')\n",
    "    \n",
    "    # Find emails in r1 that are not in r2\n",
    "    result_final = sqldf(f'''\n",
    "        SELECT r1.Email\n",
    "        FROM r1\n",
    "        LEFT JOIN r2 ON r1.Email = r2.Email\n",
    "        WHERE r2.Email IS NOT NULL AND r2.Finished = True\n",
    "    ''')\n",
    "    \n",
    "    return result_final\n",
    "\n",
    "# Track Options: Artificial Intelligence and Machine Learning, Cloud, Cyber-Hygiene: Essentials, Human-Centered Design, Leadership, Product Management\n",
    "\n",
    "print(interestList(track='Artificial Intelligence and Machine Learning'))\n",
    "\n",
    "\n"
   ]
  }
 ],
 "metadata": {
  "kernelspec": {
   "display_name": "CMS_CEA",
   "language": "python",
   "name": "python3"
  },
  "language_info": {
   "codemirror_mode": {
    "name": "ipython",
    "version": 3
   },
   "file_extension": ".py",
   "mimetype": "text/x-python",
   "name": "python",
   "nbconvert_exporter": "python",
   "pygments_lexer": "ipython3",
   "version": "3.11.4"
  },
  "orig_nbformat": 4
 },
 "nbformat": 4,
 "nbformat_minor": 2
}
